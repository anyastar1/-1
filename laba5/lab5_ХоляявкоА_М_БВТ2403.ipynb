{
  "nbformat": 4,
  "nbformat_minor": 0,
  "metadata": {
    "colab": {
      "provenance": [],
      "authorship_tag": "ABX9TyPlxzJY1O0Ju4+kctMD+da9",
      "include_colab_link": true
    },
    "kernelspec": {
      "name": "python3",
      "display_name": "Python 3"
    },
    "language_info": {
      "name": "python"
    }
  },
  "cells": [
    {
      "cell_type": "markdown",
      "metadata": {
        "id": "view-in-github",
        "colab_type": "text"
      },
      "source": [
        "<a href=\"https://colab.research.google.com/github/anyastar1/Kholyavko-A.M.-BVT2403-labs/blob/main/laba5/lab5_%D0%A5%D0%BE%D0%BB%D1%8F%D1%8F%D0%B2%D0%BA%D0%BE%D0%90_%D0%9C_%D0%91%D0%92%D0%A22403.ipynb\" target=\"_parent\"><img src=\"https://colab.research.google.com/assets/colab-badge.svg\" alt=\"Open In Colab\"/></a>"
      ]
    },
    {
      "cell_type": "markdown",
      "source": [
        "1.Задание Базовый класс и методы\n",
        "Определить класс Book, с атрибутами (title, auyhor, date),добавить метод get_info"
      ],
      "metadata": {
        "id": "Zp3w3MGh-tgK"
      }
    },
    {
      "cell_type": "code",
      "execution_count": null,
      "metadata": {
        "colab": {
          "base_uri": "https://localhost:8080/"
        },
        "id": "cRfJYcDZ0-Rl",
        "outputId": "67487867-6573-4da2-ac67-21411516e547"
      },
      "outputs": [
        {
          "output_type": "stream",
          "name": "stdout",
          "text": [
            "Название книги : Портрет Дориана грея, Автор книги : Оскар Уайльд, Дата выпуска книги : 1890\n"
          ]
        }
      ],
      "source": [
        "class Book:\n",
        "  def __init__(self,title,author,date):\n",
        "    self.title = title\n",
        "    self.author = author\n",
        "    self.date = date\n",
        "  def get_info(self):\n",
        "    return \"Название книги : {}, Автор книги : {}, Дата выпуска книги : {}\".format(self.title,self.author,self.date)\n",
        "\n",
        "book=Book(\"Портрет Дориана грея\",\"Оскар Уайльд\",1890)\n",
        "print(book.get_info())"
      ]
    },
    {
      "cell_type": "markdown",
      "source": [
        "2 Задание Работа с конструктором\n",
        "определить класс Circle, добавить метод вывода радиуса get_radius и метод set_radius(заменяющий радиус)"
      ],
      "metadata": {
        "id": "jG5msJ3Y-sxl"
      }
    },
    {
      "cell_type": "code",
      "source": [
        "class Circle:\n",
        "  def __init__(self,radius):\n",
        "    self.radius=radius\n",
        "  def get_radius(self):\n",
        "    return \"Радиус круга {} \".format(self.radius)\n",
        "  def set_radius(self,new_radius):\n",
        "      self.radius = new_radius\n",
        "circle=Circle(2)\n",
        "#circle.set_radius(4)\n",
        "print(circle.get_radius())"
      ],
      "metadata": {
        "colab": {
          "base_uri": "https://localhost:8080/"
        },
        "id": "zh_szOIINCxi",
        "outputId": "47d028ca-ac2d-43cf-86aa-880191355ef2"
      },
      "execution_count": null,
      "outputs": [
        {
          "output_type": "stream",
          "name": "stdout",
          "text": [
            "Радиус круга 2 \n"
          ]
        }
      ]
    }
  ]
}