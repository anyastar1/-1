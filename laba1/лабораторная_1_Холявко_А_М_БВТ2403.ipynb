{
  "nbformat": 4,
  "nbformat_minor": 0,
  "metadata": {
    "colab": {
      "provenance": [],
      "toc_visible": true,
      "authorship_tag": "ABX9TyOL2Qt+XaNvUy0PqI34HZ3l",
      "include_colab_link": true
    },
    "kernelspec": {
      "name": "python3",
      "display_name": "Python 3"
    },
    "language_info": {
      "name": "python"
    }
  },
  "cells": [
    {
      "cell_type": "markdown",
      "metadata": {
        "id": "view-in-github",
        "colab_type": "text"
      },
      "source": [
        "<a href=\"https://colab.research.google.com/github/anyastar1/Kholyavko-A.M.-BVT2403-labs/blob/main/laba1/%D0%BB%D0%B0%D0%B1%D0%BE%D1%80%D0%B0%D1%82%D0%BE%D1%80%D0%BD%D0%B0%D1%8F_1_%D0%A5%D0%BE%D0%BB%D1%8F%D0%B2%D0%BA%D0%BE_%D0%90_%D0%9C_%D0%91%D0%92%D0%A22403.ipynb\" target=\"_parent\"><img src=\"https://colab.research.google.com/assets/colab-badge.svg\" alt=\"Open In Colab\"/></a>"
      ]
    },
    {
      "cell_type": "markdown",
      "source": [
        "# Лабораторная работа  1"
      ],
      "metadata": {
        "id": "ggeE7JZSSSHG"
      }
    },
    {
      "cell_type": "code",
      "source": [
        "#задача 1\n",
        "num= int(input(\"Введите число: \"))\n",
        "x=1\n",
        "while x<=num:\n",
        "    print(x)\n",
        "    x+=1"
      ],
      "metadata": {
        "id": "PoduSO3hSdyU",
        "colab": {
          "base_uri": "https://localhost:8080/"
        },
        "outputId": "21d669b8-c0ba-4003-b67c-ca0eddc59441"
      },
      "execution_count": 1,
      "outputs": [
        {
          "output_type": "stream",
          "name": "stdout",
          "text": [
            "Введите число: 5\n",
            "1\n",
            "2\n",
            "3\n",
            "4\n",
            "5\n"
          ]
        }
      ]
    },
    {
      "cell_type": "code",
      "source": [
        "#задача 2\n",
        "num1= int(input(\"Введите число: \"))\n",
        "num2= int(input(\"Введите число: \"))\n",
        "if num1>num2:\n",
        "    print(\"Большее число:\", num1)\n",
        "if num1<num2:\n",
        "    print(\"Большее число:\", num2)\n",
        "if num1==num2:\n",
        "    print(\"Числа равны\")"
      ],
      "metadata": {
        "colab": {
          "base_uri": "https://localhost:8080/"
        },
        "id": "H6Epz4n8FLhF",
        "outputId": "589da9fc-c9ce-4eb1-9396-f14a436fa5cc"
      },
      "execution_count": 1,
      "outputs": [
        {
          "output_type": "stream",
          "name": "stdout",
          "text": [
            "Введите число: 4\n",
            "Введите число: 5\n",
            "Большее число: 5\n"
          ]
        }
      ]
    }
  ]
}