{
  "nbformat": 4,
  "nbformat_minor": 0,
  "metadata": {
    "colab": {
      "provenance": [],
      "toc_visible": true,
      "authorship_tag": "ABX9TyNXs1zPawfaFJLNQr3aDovI",
      "include_colab_link": true
    },
    "kernelspec": {
      "name": "python3",
      "display_name": "Python 3"
    },
    "language_info": {
      "name": "python"
    }
  },
  "cells": [
    {
      "cell_type": "markdown",
      "metadata": {
        "id": "view-in-github",
        "colab_type": "text"
      },
      "source": [
        "<a href=\"https://colab.research.google.com/github/anyastar1/-1/blob/main/laba1/test/%D0%A5%D0%9E%D0%9B%D0%AF%D0%92%D0%9A%D0%9E_%D0%90%D0%9D%D0%9D%D0%90_%D0%91%D0%92%D0%A22403.ipynb\" target=\"_parent\"><img src=\"https://colab.research.google.com/assets/colab-badge.svg\" alt=\"Open In Colab\"/></a>"
      ]
    },
    {
      "cell_type": "markdown",
      "source": [
        "# Лабораторная работа  1"
      ],
      "metadata": {
        "id": "ggeE7JZSSSHG"
      }
    },
    {
      "cell_type": "code",
      "source": [
        "#задача 1\n",
        "num= int(input(\"Введите число: \"))\n",
        "x=1\n",
        "while x<=num:\n",
        "    print(x)\n",
        "    x+=1"
      ],
      "metadata": {
        "id": "PoduSO3hSdyU",
        "colab": {
          "base_uri": "https://localhost:8080/"
        },
        "outputId": "21d669b8-c0ba-4003-b67c-ca0eddc59441"
      },
      "execution_count": 1,
      "outputs": [
        {
          "output_type": "stream",
          "name": "stdout",
          "text": [
            "Введите число: 5\n",
            "1\n",
            "2\n",
            "3\n",
            "4\n",
            "5\n"
          ]
        }
      ]
    },
    {
      "cell_type": "markdown",
      "source": [
        "# Новый раздел"
      ],
      "metadata": {
        "id": "aDqtrUoakKeS"
      }
    },
    {
      "cell_type": "markdown",
      "source": [
        "# Лабораторная работа 2\n"
      ],
      "metadata": {
        "id": "VvnEu_LqSS8S"
      }
    },
    {
      "cell_type": "code",
      "source": [
        "#задача 2\n",
        "num1= int(input(\"Введите число: \"))\n",
        "num2= int(input(\"Введите число: \"))\n",
        "if num1>num2:\n",
        "    print(\"Большее число:\", num1)\n",
        "if num1<num2:\n",
        "    print(\"Большее число:\", num2)\n",
        "if num1==num2:\n",
        "    print(\"Числа равны\")"
      ],
      "metadata": {
        "id": "6OkpU0LXSiaA"
      },
      "execution_count": null,
      "outputs": []
    },
    {
      "cell_type": "markdown",
      "source": [],
      "metadata": {
        "id": "tKnXsfFfSsFD"
      }
    },
    {
      "cell_type": "code",
      "source": [
        "#1.1 задача\n",
        "def greet(name):\n",
        "    return name\n",
        "a=input(\"Введите имя:\")\n",
        "print( \"привет,\",greet(a))"
      ],
      "metadata": {
        "id": "vLZGCUtJSsk-"
      },
      "execution_count": null,
      "outputs": []
    },
    {
      "cell_type": "code",
      "source": [
        "#1.2задача\n",
        "def square(number):\n",
        "    x= number**2\n",
        "    return x\n",
        "b=int(input(\"Введите число:\"))\n",
        "print(square(b))"
      ],
      "metadata": {
        "id": "eXvU2ULuS2Cm"
      },
      "execution_count": null,
      "outputs": []
    },
    {
      "cell_type": "code",
      "source": [
        "#1.3задача\n",
        "def max_of_two(x,y):\n",
        "    if x>y: return x\n",
        "    if y>x: return y\n",
        "c=int(input(\"Введите первое число:\"))\n",
        "d=int(input(\"Введите второе число:\"))\n",
        "print(\"Максимальное:\",max_of_two(c,d))"
      ],
      "metadata": {
        "id": "IikDwImcS87k"
      },
      "execution_count": null,
      "outputs": []
    },
    {
      "cell_type": "code",
      "source": [
        "#2 задача\n",
        "def describe_person(name,age=30):\n",
        "    print(f\"имя:{name} \")\n",
        "    print(f\"возраст:{age}\")\n",
        "    return \"\"\n",
        "print(describe_person(\"аня\",))"
      ],
      "metadata": {
        "id": "KiKDJfDDTG2x",
        "colab": {
          "base_uri": "https://localhost:8080/"
        },
        "outputId": "c60015fc-e6a7-449e-8758-55baaf39690f"
      },
      "execution_count": 3,
      "outputs": [
        {
          "output_type": "stream",
          "name": "stdout",
          "text": [
            "имя:аня \n",
            "возраст:30\n",
            "\n"
          ]
        }
      ]
    },
    {
      "cell_type": "code",
      "source": [
        "#3 задача\n",
        "def is_prime(num):\n",
        "    x=1\n",
        "    for i in range(2,int(num**0.5)+1):\n",
        "        if num%i!=0:return True\n",
        "        else: return False\n",
        "b=int(input(\"Введите число:\"))\n",
        "print( is_prime(b))"
      ],
      "metadata": {
        "id": "gRdGxNVdTGt9",
        "colab": {
          "base_uri": "https://localhost:8080/"
        },
        "outputId": "6875d687-4d8e-44f3-fae8-8112c12b5e2f"
      },
      "execution_count": 4,
      "outputs": [
        {
          "output_type": "stream",
          "name": "stdout",
          "text": [
            "Введите число:6\n",
            "False\n"
          ]
        }
      ]
    }
  ]
}