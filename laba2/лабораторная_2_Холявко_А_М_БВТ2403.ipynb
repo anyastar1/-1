{
  "nbformat": 4,
  "nbformat_minor": 0,
  "metadata": {
    "colab": {
      "provenance": [],
      "authorship_tag": "ABX9TyOHqGXOydQ+dmZsa34Fk5Pb",
      "include_colab_link": true
    },
    "kernelspec": {
      "name": "python3",
      "display_name": "Python 3"
    },
    "language_info": {
      "name": "python"
    }
  },
  "cells": [
    {
      "cell_type": "markdown",
      "metadata": {
        "id": "view-in-github",
        "colab_type": "text"
      },
      "source": [
        "<a href=\"https://colab.research.google.com/github/anyastar1/Kholyavko-A.M.-BVT2403-labs/blob/main/laba2/%D0%BB%D0%B0%D0%B1%D0%BE%D1%80%D0%B0%D1%82%D0%BE%D1%80%D0%BD%D0%B0%D1%8F_2_%D0%A5%D0%BE%D0%BB%D1%8F%D0%B2%D0%BA%D0%BE_%D0%90_%D0%9C_%D0%91%D0%92%D0%A22403.ipynb\" target=\"_parent\"><img src=\"https://colab.research.google.com/assets/colab-badge.svg\" alt=\"Open In Colab\"/></a>"
      ]
    },
    {
      "cell_type": "markdown",
      "source": [
        "Лабораторная 2"
      ],
      "metadata": {
        "id": "vtPtFifVDtNA"
      }
    },
    {
      "cell_type": "markdown",
      "source": [
        "1 Задание"
      ],
      "metadata": {
        "id": "R-21JHW0EEgS"
      }
    },
    {
      "cell_type": "code",
      "source": [
        "#1.1 задача\n",
        "def greet(name):\n",
        "    return name\n",
        "a=input(\"Введите имя:\")\n",
        "print( \"привет,\",greet(a))"
      ],
      "metadata": {
        "colab": {
          "base_uri": "https://localhost:8080/"
        },
        "id": "pyApdD5iEgIq",
        "outputId": "d070b179-47df-4bc0-f06c-11f734a49df8"
      },
      "execution_count": 1,
      "outputs": [
        {
          "output_type": "stream",
          "name": "stdout",
          "text": [
            "Введите имя:аня\n",
            "привет, аня\n"
          ]
        }
      ]
    },
    {
      "cell_type": "code",
      "source": [
        "#1.2 задача\n",
        "def square(number):\n",
        "    x= number**2\n",
        "    return x\n",
        "b=int(input(\"Введите число:\"))\n",
        "print(square(b))"
      ],
      "metadata": {
        "colab": {
          "base_uri": "https://localhost:8080/"
        },
        "id": "eqs_sU6rEh1q",
        "outputId": "24aed1bc-042e-4346-d52d-519070def2fa"
      },
      "execution_count": 2,
      "outputs": [
        {
          "output_type": "stream",
          "name": "stdout",
          "text": [
            "Введите число:5\n",
            "25\n"
          ]
        }
      ]
    },
    {
      "cell_type": "code",
      "execution_count": 3,
      "metadata": {
        "id": "G2IB5Zf27i4e",
        "colab": {
          "base_uri": "https://localhost:8080/"
        },
        "outputId": "9260893a-32e6-471d-c2ef-81030a2dffb5"
      },
      "outputs": [
        {
          "output_type": "stream",
          "name": "stdout",
          "text": [
            "Введите первое число:6\n",
            "Введите второе число:7\n",
            "Максимальное: 7\n"
          ]
        }
      ],
      "source": [
        "#1.3 задача\n",
        "def max_of_two(x,y):\n",
        "    if x>y: return x\n",
        "    if y>x: return y\n",
        "c=int(input(\"Введите первое число:\"))\n",
        "d=int(input(\"Введите второе число:\"))\n",
        "print(\"Максимальное:\",max_of_two(c,d))"
      ]
    },
    {
      "cell_type": "markdown",
      "source": [
        "2 Задание"
      ],
      "metadata": {
        "id": "Dmmsxg1dEHIq"
      }
    },
    {
      "cell_type": "code",
      "source": [
        "def describe_person(name,age=30):\n",
        "    print(f\"имя:{name} \")\n",
        "    print(f\"возраст:{age}\")\n",
        "    return \"\"\n",
        "print(describe_person(\"аня\",))"
      ],
      "metadata": {
        "colab": {
          "base_uri": "https://localhost:8080/"
        },
        "id": "H5-ujSPiD6v5",
        "outputId": "40c76a6f-5f6c-4571-ddc5-98e410dca04c"
      },
      "execution_count": 4,
      "outputs": [
        {
          "output_type": "stream",
          "name": "stdout",
          "text": [
            "имя:аня \n",
            "возраст:30\n",
            "\n"
          ]
        }
      ]
    },
    {
      "cell_type": "markdown",
      "source": [
        "3 Задание"
      ],
      "metadata": {
        "id": "rfxrTrnzEsFo"
      }
    },
    {
      "cell_type": "code",
      "source": [
        "#3 задача\n",
        "def is_prime(num):\n",
        "    for i in range(2,int(num**0.5)+1):\n",
        "        if num%i!=0:return True\n",
        "        else: return False\n",
        "b=int(input(\"Введите число:\"))\n",
        "print( is_prime(b))"
      ],
      "metadata": {
        "colab": {
          "base_uri": "https://localhost:8080/"
        },
        "id": "WmzdU_ahErnN",
        "outputId": "444e834a-546a-44f1-b129-cf2f4037b632"
      },
      "execution_count": 5,
      "outputs": [
        {
          "output_type": "stream",
          "name": "stdout",
          "text": [
            "Введите число:7\n",
            "True\n"
          ]
        }
      ]
    },
    {
      "cell_type": "markdown",
      "source": [],
      "metadata": {
        "id": "nG-ItUemEGh0"
      }
    }
  ]
}