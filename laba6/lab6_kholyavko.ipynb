{
  "nbformat": 4,
  "nbformat_minor": 0,
  "metadata": {
    "colab": {
      "provenance": [],
      "toc_visible": true,
      "authorship_tag": "ABX9TyOhmHn2kkPBj+qVmih/KPT6",
      "include_colab_link": true
    },
    "kernelspec": {
      "name": "python3",
      "display_name": "Python 3"
    },
    "language_info": {
      "name": "python"
    }
  },
  "cells": [
    {
      "cell_type": "markdown",
      "metadata": {
        "id": "view-in-github",
        "colab_type": "text"
      },
      "source": [
        "<a href=\"https://colab.research.google.com/github/anyastar1/Kholyavko-A.M.-BVT2403-labs/blob/main/laba6/lab6_kholyavko.ipynb\" target=\"_parent\"><img src=\"https://colab.research.google.com/assets/colab-badge.svg\" alt=\"Open In Colab\"/></a>"
      ]
    },
    {
      "cell_type": "markdown",
      "source": [
        "1 Задание.Приватный тип данных."
      ],
      "metadata": {
        "id": "UTw8Bqd65yr0"
      }
    },
    {
      "cell_type": "code",
      "execution_count": null,
      "metadata": {
        "colab": {
          "base_uri": "https://localhost:8080/"
        },
        "id": "jpeSC_2ErEUn",
        "outputId": "97e73fae-aa9f-42a3-d94f-2cc01e142139"
      },
      "outputs": [
        {
          "output_type": "stream",
          "name": "stdout",
          "text": [
            "Имя пользователя: Anna KHol, Почта пользователя : unknow@gmail.com\n",
            "Введите текущий пароль:67696\n",
            "Успешно.Введите новый пароль:12\n",
            "Ваш новый пароль установлен!\n",
            "Введите измененный пароль12\n",
            "True\n"
          ]
        }
      ],
      "source": [
        "class UserAccount:\n",
        "  def __init__(self,username, mail,password):\n",
        "    self.username = username\n",
        "    self.mail= mail\n",
        "    self.__password =  password\n",
        "  def get_info(self):\n",
        "    return \"Имя пользователя: {}, Почта пользователя : {}\".format(self.username,self.mail)\n",
        "  def get_password(self):\n",
        "    return self.__password\n",
        "  def set_password(self):\n",
        "    nowadays_password=int(input('Введите текущий пароль:'))\n",
        "    if nowadays_password ==  user.get_password():\n",
        "      nem_password = int(input('Успешно.Введите новый пароль:'))\n",
        "      self.__password = nem_password\n",
        "      return 'Ваш новый пароль установлен!'\n",
        "    else:\n",
        "      print('Пароль неверный.Попробуйте еще раз.')\n",
        "      return self.set_password()\n",
        "\n",
        "  def check_password(self,password):\n",
        "    return(password == user.get_password())\n",
        "\n",
        "user=UserAccount(\"Anna KHol\",\"unknow@gmail.com\",67696)\n",
        "print(user.get_info())\n",
        "print(user.set_password())\n",
        "print(user.check_password(int(input('Введите измененный пароль'))))\n",
        "\n"
      ]
    },
    {
      "cell_type": "markdown",
      "source": [
        "2 Задание. Работа с дочерними классами."
      ],
      "metadata": {
        "id": "yI5BN_Tt579z"
      }
    },
    {
      "cell_type": "code",
      "source": [
        "class Vehicle:\n",
        "  def __init__(self,make,model):\n",
        "    self.make = make\n",
        "    self.model = model\n",
        "  def get_info(self):\n",
        "    return \"Марка ТС: {}, Модель ТС : {}\" .format(self.make,self.model)\n",
        "\n",
        "class Car(Vehicle):\n",
        "  def __init__(self,make,model,fuel_type):\n",
        "    super().__init__(make,model)\n",
        "    self.fuel_type = fuel_type\n",
        "  def get_info(self):\n",
        "    return \"Марка ТС: {}, Модель ТС : {}, топливо : {}\".format(self.make,self.model,self.fuel_type)\n",
        "car1= Vehicle ('Телега','бабушкина')\n",
        "car2=Car('Brabus','G V12','бензин')\n",
        "print(car1.get_info())\n",
        "print(car2.get_info())"
      ],
      "metadata": {
        "colab": {
          "base_uri": "https://localhost:8080/"
        },
        "id": "Ust5jmo1xPAq",
        "outputId": "908b5198-a238-4503-e80b-c39140569b43"
      },
      "execution_count": null,
      "outputs": [
        {
          "output_type": "stream",
          "name": "stdout",
          "text": [
            "Марка ТС: Телега, Модель ТС : бабушкина\n",
            "Марка ТС: Brabus, Модель ТС : G V12, топливо : бензин\n"
          ]
        }
      ]
    }
  ]
}